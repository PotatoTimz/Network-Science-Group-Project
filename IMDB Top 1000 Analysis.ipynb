{
 "cells": [
  {
   "cell_type": "code",
   "execution_count": null,
   "id": "22942b05-2a4b-492e-85e2-060467162d7a",
   "metadata": {},
   "outputs": [],
   "source": []
  }
 ],
 "metadata": {
  "kernelspec": {
   "display_name": "",
   "name": ""
  },
  "language_info": {
   "name": ""
  }
 },
 "nbformat": 4,
 "nbformat_minor": 5
}
