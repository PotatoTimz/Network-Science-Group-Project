{
 "cells": [
  {
   "cell_type": "code",
   "execution_count": 1,
   "id": "22942b05-2a4b-492e-85e2-060467162d7a",
   "metadata": {},
   "outputs": [
    {
     "name": "stdout",
     "output_type": "stream",
     "text": [
      "                                           Poster_Link  \\\n",
      "0    https://m.media-amazon.com/images/M/MV5BMDFkYT...   \n",
      "1    https://m.media-amazon.com/images/M/MV5BM2MyNj...   \n",
      "2    https://m.media-amazon.com/images/M/MV5BMTMxNT...   \n",
      "3    https://m.media-amazon.com/images/M/MV5BMWMwMG...   \n",
      "4    https://m.media-amazon.com/images/M/MV5BMWU4N2...   \n",
      "..                                                 ...   \n",
      "995  https://m.media-amazon.com/images/M/MV5BNGEwMT...   \n",
      "996  https://m.media-amazon.com/images/M/MV5BODk3Yj...   \n",
      "997  https://m.media-amazon.com/images/M/MV5BM2U3Yz...   \n",
      "998  https://m.media-amazon.com/images/M/MV5BZTBmMj...   \n",
      "999  https://m.media-amazon.com/images/M/MV5BMTY5OD...   \n",
      "\n",
      "                 Series_Title Released_Year Certificate  Runtime  \\\n",
      "0    The Shawshank Redemption          1994           A  142 min   \n",
      "1               The Godfather          1972           A  175 min   \n",
      "2             The Dark Knight          2008          UA  152 min   \n",
      "3      The Godfather: Part II          1974           A  202 min   \n",
      "4                12 Angry Men          1957           U   96 min   \n",
      "..                        ...           ...         ...      ...   \n",
      "995    Breakfast at Tiffany's          1961           A  115 min   \n",
      "996                     Giant          1956           G  201 min   \n",
      "997     From Here to Eternity          1953      Passed  118 min   \n",
      "998                  Lifeboat          1944         NaN   97 min   \n",
      "999              The 39 Steps          1935         NaN   86 min   \n",
      "\n",
      "                        Genre  IMDB_Rating  \\\n",
      "0                       Drama          9.3   \n",
      "1                Crime, Drama          9.2   \n",
      "2        Action, Crime, Drama          9.0   \n",
      "3                Crime, Drama          9.0   \n",
      "4                Crime, Drama          9.0   \n",
      "..                        ...          ...   \n",
      "995    Comedy, Drama, Romance          7.6   \n",
      "996            Drama, Western          7.6   \n",
      "997       Drama, Romance, War          7.6   \n",
      "998                Drama, War          7.6   \n",
      "999  Crime, Mystery, Thriller          7.6   \n",
      "\n",
      "                                              Overview  Meta_score  \\\n",
      "0    Two imprisoned men bond over a number of years...        80.0   \n",
      "1    An organized crime dynasty's aging patriarch t...       100.0   \n",
      "2    When the menace known as the Joker wreaks havo...        84.0   \n",
      "3    The early life and career of Vito Corleone in ...        90.0   \n",
      "4    A jury holdout attempts to prevent a miscarria...        96.0   \n",
      "..                                                 ...         ...   \n",
      "995  A young New York socialite becomes interested ...        76.0   \n",
      "996  Sprawling epic covering the life of a Texas ca...        84.0   \n",
      "997  In Hawaii in 1941, a private is cruelly punish...        85.0   \n",
      "998  Several survivors of a torpedoed merchant ship...        78.0   \n",
      "999  A man in London tries to help a counter-espion...        93.0   \n",
      "\n",
      "                 Director              Star1              Star2  \\\n",
      "0          Frank Darabont        Tim Robbins     Morgan Freeman   \n",
      "1    Francis Ford Coppola      Marlon Brando          Al Pacino   \n",
      "2       Christopher Nolan     Christian Bale       Heath Ledger   \n",
      "3    Francis Ford Coppola          Al Pacino     Robert De Niro   \n",
      "4            Sidney Lumet        Henry Fonda        Lee J. Cobb   \n",
      "..                    ...                ...                ...   \n",
      "995         Blake Edwards     Audrey Hepburn     George Peppard   \n",
      "996        George Stevens   Elizabeth Taylor        Rock Hudson   \n",
      "997        Fred Zinnemann     Burt Lancaster   Montgomery Clift   \n",
      "998      Alfred Hitchcock  Tallulah Bankhead        John Hodiak   \n",
      "999      Alfred Hitchcock       Robert Donat  Madeleine Carroll   \n",
      "\n",
      "              Star3           Star4  No_of_Votes        Gross  \n",
      "0        Bob Gunton  William Sadler      2343110   28,341,469  \n",
      "1        James Caan    Diane Keaton      1620367  134,966,411  \n",
      "2     Aaron Eckhart   Michael Caine      2303232  534,858,444  \n",
      "3     Robert Duvall    Diane Keaton      1129952   57,300,000  \n",
      "4     Martin Balsam    John Fiedler       689845    4,360,000  \n",
      "..              ...             ...          ...          ...  \n",
      "995   Patricia Neal     Buddy Ebsen       166544          NaN  \n",
      "996      James Dean   Carroll Baker        34075          NaN  \n",
      "997    Deborah Kerr      Donna Reed        43374   30,500,000  \n",
      "998   Walter Slezak  William Bendix        26471          NaN  \n",
      "999  Lucie Mannheim  Godfrey Tearle        51853          NaN  \n",
      "\n",
      "[1000 rows x 16 columns]\n"
     ]
    }
   ],
   "source": [
    "import scipy\n",
    "import pandas as pd\n",
    "import networkx as nx\n",
    "from collections import defaultdict\n",
    "\n",
    "df = pd.read_csv('imdb_top_1000.csv')\n",
    "\n",
    "print(df)"
   ]
  },
  {
   "cell_type": "code",
   "execution_count": 2,
   "id": "9481b9da-b9fb-4da6-a599-1c7d1fa49868",
   "metadata": {},
   "outputs": [
    {
     "name": "stdout",
     "output_type": "stream",
     "text": [
      "[]\n"
     ]
    },
    {
     "data": {
      "image/png": "[encoded data removed]",
      "text/plain": [
       "<Figure size 640x480 with 1 Axes>"
      ]
     },
     "metadata": {},
     "output_type": "display_data"
    }
   ],
   "source": [
    "rows = []\n",
    "for index, row in df.iterrows():\n",
    "    rows.append((row[\"Series_Title\"], [row[\"Star1\"], row[\"Star2\"], row[\"Star3\"], row[\"Star4\"]]))\n",
    "\n",
    "G = nx.Graph()\n",
    "\n",
    "titles = [movie[0] for movie in rows]\n",
    "for title in titles:\n",
    "    #print(title)\n",
    "    G.add_node(title)\n",
    "    \n",
    "for i in range(len(titles)):\n",
    "    for j in range(i+1, len(title)):\n",
    "        weight = len(set(rows[i][1]).intersection(set(rows[j][1])))\n",
    "        if weight >= 1:\n",
    "            G.add_edge(rows[i][0], rows[j][0], weight=weight)\n",
    "        \n",
    "nx.draw(G)\n",
    "print(G.edges(\"Star Wars\"))"
   ]
  },
  {
   "cell_type": "code",
   "execution_count": 3,
   "id": "e79cb0ef-3399-4781-9f8f-fcfb8423ca46",
   "metadata": {},
   "outputs": [],
   "source": [
    "movie_by_genere = default\n",
    "for index, row in df.iterrows():\n",
    "    m\n",
    "    rows.append((row[\"Series_Title\"], g]))"
   ]
  },
  {
   "cell_type": "code",
   "execution_count": null,
   "id": "42fc6392-0051-4b0a-b8e8-6475f4bc5848",
   "metadata": {},
   "outputs": [],
   "source": []
  }
 ],
 "metadata": {
  "kernelspec": {
   "display_name": "Python 3 (ipykernel)",
   "language": "python",
   "name": "python3"
  },
  "language_info": {
   "codemirror_mode": {
    "name": "ipython",
    "version": 3
   },
   "file_extension": ".py",
   "mimetype": "text/x-python",
   "name": "python",
   "nbconvert_exporter": "python",
   "pygments_lexer": "ipython3",
   "version": "3.12.6"
  }
 },
 "nbformat": 4,
 "nbformat_minor": 5
}
